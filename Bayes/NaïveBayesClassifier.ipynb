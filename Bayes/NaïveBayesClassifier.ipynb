{
 "cells": [
  {
   "cell_type": "code",
   "execution_count": 1,
   "id": "c84ab0d1",
   "metadata": {},
   "outputs": [],
   "source": [
    "import numpy as np\n",
    "import pandas as pd\n",
    "import warnings\n",
    "from numpy import array\n",
    "from sklearn.model_selection import train_test_split\n",
    "from sklearn.preprocessing import MinMaxScaler\n",
    "from sklearn.preprocessing import LabelEncoder \n",
    "from sklearn.preprocessing import OneHotEncoder\n",
    "from sklearn.metrics import mean_squared_error\n",
    "from sklearn.model_selection import cross_val_score\n",
    "from sklearn.model_selection import cross_validate\n",
    "from sklearn import preprocessing\n",
    "\n",
    "import matplotlib.pyplot as plt"
   ]
  },
  {
   "cell_type": "code",
   "execution_count": 2,
   "id": "f34fc51e",
   "metadata": {},
   "outputs": [],
   "source": [
    "df = pd.read_csv('./train.csv')\n",
    "#df_test = pd.read_csv('./test.csv')"
   ]
  },
  {
   "cell_type": "code",
   "execution_count": 3,
   "id": "8a4061cb",
   "metadata": {
    "scrolled": true
   },
   "outputs": [
    {
     "data": {
      "text/html": [
       "<div>\n",
       "<style scoped>\n",
       "    .dataframe tbody tr th:only-of-type {\n",
       "        vertical-align: middle;\n",
       "    }\n",
       "\n",
       "    .dataframe tbody tr th {\n",
       "        vertical-align: top;\n",
       "    }\n",
       "\n",
       "    .dataframe thead th {\n",
       "        text-align: right;\n",
       "    }\n",
       "</style>\n",
       "<table border=\"1\" class=\"dataframe\">\n",
       "  <thead>\n",
       "    <tr style=\"text-align: right;\">\n",
       "      <th></th>\n",
       "      <th>PassengerId</th>\n",
       "      <th>Pclass</th>\n",
       "      <th>Age</th>\n",
       "      <th>SibSp</th>\n",
       "      <th>Parch</th>\n",
       "      <th>Fare</th>\n",
       "    </tr>\n",
       "  </thead>\n",
       "  <tbody>\n",
       "    <tr>\n",
       "      <th>count</th>\n",
       "      <td>891.000000</td>\n",
       "      <td>891.000000</td>\n",
       "      <td>714.000000</td>\n",
       "      <td>891.000000</td>\n",
       "      <td>891.000000</td>\n",
       "      <td>891.000000</td>\n",
       "    </tr>\n",
       "    <tr>\n",
       "      <th>mean</th>\n",
       "      <td>446.000000</td>\n",
       "      <td>2.308642</td>\n",
       "      <td>29.699118</td>\n",
       "      <td>0.523008</td>\n",
       "      <td>0.381594</td>\n",
       "      <td>32.204208</td>\n",
       "    </tr>\n",
       "    <tr>\n",
       "      <th>std</th>\n",
       "      <td>257.353842</td>\n",
       "      <td>0.836071</td>\n",
       "      <td>14.526497</td>\n",
       "      <td>1.102743</td>\n",
       "      <td>0.806057</td>\n",
       "      <td>49.693429</td>\n",
       "    </tr>\n",
       "    <tr>\n",
       "      <th>min</th>\n",
       "      <td>1.000000</td>\n",
       "      <td>1.000000</td>\n",
       "      <td>0.420000</td>\n",
       "      <td>0.000000</td>\n",
       "      <td>0.000000</td>\n",
       "      <td>0.000000</td>\n",
       "    </tr>\n",
       "    <tr>\n",
       "      <th>25%</th>\n",
       "      <td>223.500000</td>\n",
       "      <td>2.000000</td>\n",
       "      <td>20.125000</td>\n",
       "      <td>0.000000</td>\n",
       "      <td>0.000000</td>\n",
       "      <td>7.910400</td>\n",
       "    </tr>\n",
       "    <tr>\n",
       "      <th>50%</th>\n",
       "      <td>446.000000</td>\n",
       "      <td>3.000000</td>\n",
       "      <td>28.000000</td>\n",
       "      <td>0.000000</td>\n",
       "      <td>0.000000</td>\n",
       "      <td>14.454200</td>\n",
       "    </tr>\n",
       "    <tr>\n",
       "      <th>75%</th>\n",
       "      <td>668.500000</td>\n",
       "      <td>3.000000</td>\n",
       "      <td>38.000000</td>\n",
       "      <td>1.000000</td>\n",
       "      <td>0.000000</td>\n",
       "      <td>31.000000</td>\n",
       "    </tr>\n",
       "    <tr>\n",
       "      <th>max</th>\n",
       "      <td>891.000000</td>\n",
       "      <td>3.000000</td>\n",
       "      <td>80.000000</td>\n",
       "      <td>8.000000</td>\n",
       "      <td>6.000000</td>\n",
       "      <td>512.329200</td>\n",
       "    </tr>\n",
       "  </tbody>\n",
       "</table>\n",
       "</div>"
      ],
      "text/plain": [
       "       PassengerId      Pclass         Age       SibSp       Parch        Fare\n",
       "count   891.000000  891.000000  714.000000  891.000000  891.000000  891.000000\n",
       "mean    446.000000    2.308642   29.699118    0.523008    0.381594   32.204208\n",
       "std     257.353842    0.836071   14.526497    1.102743    0.806057   49.693429\n",
       "min       1.000000    1.000000    0.420000    0.000000    0.000000    0.000000\n",
       "25%     223.500000    2.000000   20.125000    0.000000    0.000000    7.910400\n",
       "50%     446.000000    3.000000   28.000000    0.000000    0.000000   14.454200\n",
       "75%     668.500000    3.000000   38.000000    1.000000    0.000000   31.000000\n",
       "max     891.000000    3.000000   80.000000    8.000000    6.000000  512.329200"
      ]
     },
     "execution_count": 3,
     "metadata": {},
     "output_type": "execute_result"
    }
   ],
   "source": [
    "df = df.drop(['Name','Ticket'],axis = 1)\n",
    "X = pd.DataFrame(df)\n",
    "X = X.drop('Survived',axis = 1)\n",
    "Y = df['Survived']\n",
    "X.describe()"
   ]
  },
  {
   "cell_type": "markdown",
   "id": "a1e87737",
   "metadata": {},
   "source": [
    "# Data Processing\n",
    " - Missing values in age replaced with average of age\n",
    " - Missing values in embarked replaced with 'U'\n",
    " - Missing Values in Cabin replaced with 'S'\n",
    " - Sex, Emabarked, and Cabin transformed using label encoder"
   ]
  },
  {
   "cell_type": "code",
   "execution_count": 4,
   "id": "fcc91374",
   "metadata": {},
   "outputs": [],
   "source": [
    "# Function for normalizing data in a column given the dataframe, and column name\n",
    "def normalize_col(df,col_name):\n",
    "    Temp_Col = pd.DataFrame(df[col_name])\n",
    "    col_normal = preprocessing.MinMaxScaler().fit_transform(Temp_Col.copy())\n",
    "    col_normal = pd.DataFrame(col_normal, columns = Temp_Col.columns)\n",
    "    df[col_name] = col_normal\n",
    "    return df"
   ]
  },
  {
   "cell_type": "code",
   "execution_count": 5,
   "id": "f6119b06",
   "metadata": {},
   "outputs": [
    {
     "name": "stdout",
     "output_type": "stream",
     "text": [
      "<class 'pandas.core.frame.DataFrame'>\n",
      "RangeIndex: 891 entries, 0 to 890\n",
      "Data columns (total 9 columns):\n",
      " #   Column       Non-Null Count  Dtype  \n",
      "---  ------       --------------  -----  \n",
      " 0   PassengerId  891 non-null    int64  \n",
      " 1   Pclass       891 non-null    int64  \n",
      " 2   Sex          891 non-null    int32  \n",
      " 3   Age          891 non-null    float64\n",
      " 4   SibSp        891 non-null    int64  \n",
      " 5   Parch        891 non-null    int64  \n",
      " 6   Fare         891 non-null    float64\n",
      " 7   Cabin        891 non-null    int32  \n",
      " 8   Embarked     891 non-null    int32  \n",
      "dtypes: float64(2), int32(3), int64(4)\n",
      "memory usage: 52.3 KB\n",
      "None\n",
      "   PassengerId  Pclass  Sex   Age  SibSp  Parch     Fare  Cabin  Embarked\n",
      "0            1       3    1  22.0      1      0   7.2500    147         2\n",
      "1            2       1    0  38.0      1      0  71.2833     81         0\n",
      "2            3       3    0  26.0      0      0   7.9250    147         2\n",
      "3            4       1    0  35.0      1      0  53.1000     55         2\n",
      "4            5       3    1  35.0      0      0   8.0500    147         2\n"
     ]
    }
   ],
   "source": [
    "ave_age = round(X['Age'].mean(),2)\n",
    "X['Age'] = X['Age'].replace(np.nan, ave_age ,regex = True)\n",
    "X['Embarked'] = X['Embarked'].replace(np.nan, 'S',regex = True)\n",
    "X['Cabin'] = X['Cabin'].replace(np.nan, 'U',regex = True)\n",
    "feature_for_encoding = ['Sex','Embarked','Cabin']\n",
    "\n",
    "encoder = LabelEncoder()\n",
    "for feature in feature_for_encoding:\n",
    "    X[feature] = encoder.fit_transform(X[feature])\n",
    "    \n",
    "    \n",
    "print(X.info())\n",
    "print(X.head())\n"
   ]
  },
  {
   "cell_type": "markdown",
   "id": "493523d0",
   "metadata": {},
   "source": [
    "# Gaussian Naïve Bayes Classifier\n",
    " - 80/20 training-testing split"
   ]
  },
  {
   "cell_type": "code",
   "execution_count": 6,
   "id": "c060cd6a",
   "metadata": {},
   "outputs": [],
   "source": [
    "X_train,X_Test,Y_train, Y_Test = train_test_split(X,Y, random_state = 1, test_size = .20)\n",
    "\n",
    "from sklearn.naive_bayes import GaussianNB\n",
    "\n",
    "NB = GaussianNB()\n",
    "NB.fit(X_train, np.asarray(Y_train))\n",
    "y_pred = NB.predict(X_Test)\n",
    "scores = cross_validate(NB, X, Y,scoring = ('accuracy','neg_mean_squared_error'), cv = 10)\n"
   ]
  },
  {
   "cell_type": "code",
   "execution_count": 7,
   "id": "1a47418d",
   "metadata": {},
   "outputs": [
    {
     "name": "stdout",
     "output_type": "stream",
     "text": [
      "Accuracy: 0.7430167597765364\n",
      "MSE: 0.2569832402234637\n"
     ]
    }
   ],
   "source": [
    "print(\"Accuracy:\",NB.score(X_Test,Y_Test))\n",
    "print(\"MSE:\", mean_squared_error(Y_Test,y_pred))"
   ]
  },
  {
   "cell_type": "code",
   "execution_count": 8,
   "id": "74c54c5f",
   "metadata": {},
   "outputs": [
    {
     "name": "stdout",
     "output_type": "stream",
     "text": [
      "Accuracy: 0.7845193508114856\n",
      "MSE: 0.2154806491885144\n"
     ]
    }
   ],
   "source": [
    "#print(scores['test_accuracy'])\n",
    "print(\"Accuracy:\",scores['test_accuracy'].mean())\n",
    "print(\"MSE:\",np.mean(np.abs(scores['test_neg_mean_squared_error'])))"
   ]
  },
  {
   "cell_type": "code",
   "execution_count": null,
   "id": "58249162",
   "metadata": {},
   "outputs": [],
   "source": []
  }
 ],
 "metadata": {
  "kernelspec": {
   "display_name": "Python 3",
   "language": "python",
   "name": "python3"
  },
  "language_info": {
   "codemirror_mode": {
    "name": "ipython",
    "version": 3
   },
   "file_extension": ".py",
   "mimetype": "text/x-python",
   "name": "python",
   "nbconvert_exporter": "python",
   "pygments_lexer": "ipython3",
   "version": "3.8.8"
  }
 },
 "nbformat": 4,
 "nbformat_minor": 5
}
