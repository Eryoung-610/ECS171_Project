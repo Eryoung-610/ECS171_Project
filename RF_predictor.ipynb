{
 "cells": [
  {
   "cell_type": "code",
   "execution_count": 39,
   "id": "c5435fb3",
   "metadata": {},
   "outputs": [],
   "source": [
    "import pandas as pd\n",
    "import csv\n",
    "import numpy as np\n",
    "from sklearn.neural_network import MLPRegressor\n",
    "from sklearn.preprocessing import MinMaxScaler\n",
    "from sklearn.model_selection import train_test_split\n",
    "from sklearn.metrics import mean_squared_error, accuracy_score\n",
    "\n",
    "def age_model_producer(dataset):\n",
    "    X = dataset.dropna()\n",
    "    y = X[\"Age\"]\n",
    "    x = X.drop([\"Age\"] , axis = 1 )\n",
    "    \n",
    "    \n",
    "    model = MLPRegressor(solver = 'sgd', random_state = 42, activation = 'logistic', learning_rate_init = 0.05, hidden_layer_sizes = (15, 10), max_iter = 1500)\n",
    "    model.fit(x , y)\n",
    "    return model\n",
    "    \n",
    "def handle_missing_numerical_mean(dataset, column_name):\n",
    "    \n",
    "    series = dataset[column_name]\n",
    "    temp_series = series.dropna()\n",
    "    temp_array = np.array(temp_series)\n",
    "    \n",
    "    mean = temp_array.mean()\n",
    "    temp_series = series.fillna(mean)\n",
    "    return (temp_series)\n",
    "\n",
    "def handle_missing_age(dataset, method = \"mean\"):\n",
    "    \n",
    "    if method == \"mean\":\n",
    "        return handle_missing_numerical_mean(dataset, \"Age\")\n",
    "    else:\n",
    "        model = age_model_producer(dataset)\n",
    "        \n",
    "        for i in range(dataset.shape[0]):\n",
    "            if np.isnan(dataset.loc[[i]][\"Age\"]).values[0]:\n",
    "                dataset.loc[[i]] = dataset.loc[[i]].fillna(value = model.predict(dataset.loc[[i]].drop([\"Age\"], axis = 1))[0])\n",
    "                \n",
    "        return dataset[\"Age\"]\n",
    "\n",
    "dataset = pd.read_csv(\"train.csv\")\n",
    "\n",
    "X = dataset.drop(['PassengerId', 'Name', 'Ticket', 'Cabin'], axis = 1)\n",
    "\n",
    "dummies_sex = pd.get_dummies(X[\"Sex\"])\n",
    "X[\"Pclass\"] = X[\"Pclass\"].replace(to_replace = [1, 2, 3], value = [\"1_pclass\", \"2_pclass\", \"3_pclass\" ])\n",
    "dummies_pclass = pd.get_dummies(X[\"Pclass\"])\n",
    "dummies_embarked = pd.get_dummies(X[\"Embarked\"])\n",
    "\n",
    "\n",
    "nl = MinMaxScaler()\n",
    "X[[ \"Fare\", \"SibSp\", \"Parch\"]] = nl.fit_transform(X[[ \"Fare\" , \"SibSp\", \"Parch\"]])\n",
    "\n",
    "\n",
    "x = X[[\"Age\", \"Fare\", \"SibSp\", \"Parch\"]]\n",
    "x = pd.concat([x, dummies_sex, dummies_pclass, dummies_embarked], axis = 1)\n",
    "x[\"Age\"] = handle_missing_age(x, method = \"predict\")\n",
    "#x[\"Age\"] = handle_missing_age(X)\n",
    "x[[\"Age\"]] = nl.fit_transform(x[[ \"Age\"]])\n",
    "\n",
    "\n",
    "y = pd.get_dummies(X[\"Survived\"])"
   ]
  },
  {
   "cell_type": "code",
   "execution_count": 40,
   "id": "35811b39",
   "metadata": {},
   "outputs": [],
   "source": [
    "y = y.to_numpy()[:,0]\n",
    "X = x.to_numpy()"
   ]
  },
  {
   "cell_type": "markdown",
   "id": "7417c660",
   "metadata": {},
   "source": [
    "## RF with Grid Hyperparamter Search"
   ]
  },
  {
   "cell_type": "code",
   "execution_count": 54,
   "id": "986ace6c",
   "metadata": {},
   "outputs": [
    {
     "name": "stdout",
     "output_type": "stream",
     "text": [
      "Best Parameter: {'criterion': 'gini', 'min_samples_leaf': 1, 'min_samples_split': 11, 'n_estimators': 300}\n",
      "Best parameters score: 0.8317103620474408\n"
     ]
    }
   ],
   "source": [
    "from sklearn.model_selection import GridSearchCV\n",
    "from sklearn.model_selection import KFold\n",
    "from sklearn.ensemble import RandomForestClassifier\n",
    "\n",
    "params = {'n_estimators':(100, 300, 500,1000), 'criterion':('gini', 'entropy'),'min_samples_split':[2, 11],'min_samples_leaf':[1, 9]}\n",
    "\n",
    "gridSearch = GridSearchCV(RandomForestClassifier(), param_grid=params, cv=10)\n",
    "gridSearch.fit(X,y)\n",
    "\n",
    "params = gridSearch.best_params_\n",
    "score = gridSearch.best_score_\n",
    "\n",
    "print(f\"Best Parameter: {params}\")\n",
    "print(f\"Best parameters score: {score}\")"
   ]
  },
  {
   "cell_type": "code",
   "execution_count": null,
   "id": "d73d97de",
   "metadata": {},
   "outputs": [],
   "source": []
  }
 ],
 "metadata": {
  "kernelspec": {
   "display_name": "32Benv",
   "language": "python",
   "name": "32benv"
  },
  "language_info": {
   "codemirror_mode": {
    "name": "ipython",
    "version": 3
   },
   "file_extension": ".py",
   "mimetype": "text/x-python",
   "name": "python",
   "nbconvert_exporter": "python",
   "pygments_lexer": "ipython3",
   "version": "3.6.12"
  }
 },
 "nbformat": 4,
 "nbformat_minor": 5
}
