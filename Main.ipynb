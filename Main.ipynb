{
 "cells": [
  {
   "cell_type": "code",
   "execution_count": 138,
   "id": "2a9b7b08",
   "metadata": {
    "scrolled": false
   },
   "outputs": [
    {
     "name": "stdout",
     "output_type": "stream",
     "text": [
      "['PassengerId', 'Survived', 'Pclass', 'Name', 'Sex', 'Age', 'SibSp', 'Parch', 'Ticket', 'Fare', 'Cabin', 'Embarked']\n"
     ]
    }
   ],
   "source": [
    "import pandas as pd\n",
    "import csv\n",
    "import numpy as np\n",
    "import pprint\n",
    "import copy\n",
    "import random\n",
    "import math\n",
    "import re\n",
    "\n",
    "def form_dic(line):\n",
    "    temp_dic = {}\n",
    "    \n",
    "    pattern = re.compile(r'\\\".*\\\"')\n",
    "    dis = pattern.search(line)\n",
    "    \n",
    "    found = dis.group()\n",
    "    temp_dic.setdefault(\"Name\", found)\n",
    "    temp_str = line.replace(\",\"+found, \"\")\n",
    "    \n",
    "    temp_list = temp_str.split(\",\")\n",
    "    \n",
    "    temp_dic.setdefault(\"PassengerId\", temp_list[0])\n",
    "    temp_dic.setdefault(\"Survived\", int(temp_list[1]))\n",
    "    temp_dic.setdefault(\"Pclass\", int(temp_list[2]))\n",
    "    temp_dic.setdefault(\"Sex\", temp_list[3])\n",
    "    temp_dic.setdefault(\"Age\", float(temp_list[4]) if temp_list[4] != \"\" else -1)\n",
    "    temp_dic.setdefault(\"SibSp\", int(temp_list[5]))\n",
    "    temp_dic.setdefault(\"Parch\", int(temp_list[6]))\n",
    "    temp_dic.setdefault(\"Ticket\", temp_list[7])\n",
    "    temp_dic.setdefault(\"Fare\", float(temp_list[8]))\n",
    "    temp_dic.setdefault(\"Cabin\", temp_list[9] if temp_list[9]!=\"\" else \"missing\")\n",
    "    temp_dic.setdefault(\"Embarked\", temp_list[10])\n",
    "    \n",
    "    return temp_dic\n",
    "\n",
    "\n",
    "with open(\"train.csv\") as csvfile:\n",
    "    titanic_data_inline = [line[:-1] for line in csvfile]\n",
    "\n",
    "titanic_data_attribute = titanic_data_inline[0].split(\",\")\n",
    "del titanic_data_inline[0]\n",
    "\n",
    "titanic_data_dic = [form_dic(line) for line in titanic_data_inline]\n",
    "\n",
    "print(titanic_data_attribute)\n",
    "\n",
    "training_set = titanic_data_dic[:int(4/5*len(titanic_data_dic))]\n",
    "test_set = titanic_data_dic[int(4/5*len(titanic_data_dic)):]"
   ]
  },
  {
   "cell_type": "code",
   "execution_count": null,
   "id": "2fa122d2",
   "metadata": {},
   "outputs": [],
   "source": []
  }
 ],
 "metadata": {
  "kernelspec": {
   "display_name": "Python 3",
   "language": "python",
   "name": "python3"
  },
  "language_info": {
   "codemirror_mode": {
    "name": "ipython",
    "version": 3
   },
   "file_extension": ".py",
   "mimetype": "text/x-python",
   "name": "python",
   "nbconvert_exporter": "python",
   "pygments_lexer": "ipython3",
   "version": "3.8.1"
  }
 },
 "nbformat": 4,
 "nbformat_minor": 5
}
